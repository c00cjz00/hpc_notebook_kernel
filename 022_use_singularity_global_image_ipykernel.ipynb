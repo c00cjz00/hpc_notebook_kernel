{
 "cells": [
  {
   "cell_type": "markdown",
   "id": "e3c0ade8-71ef-4f04-8205-962e78a47788",
   "metadata": {},
   "source": [
    "## 022. Singularity指令 + 共用 library folder 之 image容器 kernel\n",
    "<span style=\"color:red\">Change to Default kernel:  Pyhon 3 (ipykernel)</span>."
   ]
  },
  {
   "cell_type": "code",
   "execution_count": 1,
   "id": "8a2916f1-2c71-450e-b488-c70f873fbc6d",
   "metadata": {},
   "outputs": [
    {
     "name": "stdout",
     "output_type": "stream",
     "text": [
      "2023-11-25 10:30:50 - Created default config file at /work/g00cjz00/github/hpc_notebook_kernel/.chainlit/config.toml\n",
      "Usage: chainlit [OPTIONS] COMMAND [ARGS]...\n",
      "\n",
      "Options:\n",
      "  --version  Show the version and exit.\n",
      "  --help     Show this message and exit.\n",
      "\n",
      "Commands:\n",
      "  create-secret\n",
      "  hello\n",
      "  init\n",
      "  run\n"
     ]
    }
   ],
   "source": [
    "%%bash\n",
    "### 1. IMAGE\n",
    "IMAGE=/work/u00cjz00/nvidia/pytorch_2.1.0-cuda11.8-cudnn8-devel.sif\n",
    "IMAGE_basename=G_$(basename \"$IMAGE\" .sif)\n",
    "\n",
    "# 2. SINGULARITY \n",
    "ml libs/singularity/3.10.2\n",
    "singularity exec --nv -B /work ${IMAGE} \\\n",
    "bash -c \"export PATH=$PATH:$HOME/.local/bin:/work/u00cjz00/os/ubuntu/bin; chainlit --help\""
   ]
  },
  {
   "cell_type": "code",
   "execution_count": null,
   "id": "47e7f466-ea48-4e40-8109-84eb46f3b8c4",
   "metadata": {},
   "outputs": [],
   "source": []
  }
 ],
 "metadata": {
  "kernelspec": {
   "display_name": "Python 3 (ipykernel)",
   "language": "python",
   "name": "python3"
  },
  "language_info": {
   "codemirror_mode": {
    "name": "ipython",
    "version": 3
   },
   "file_extension": ".py",
   "mimetype": "text/x-python",
   "name": "python",
   "nbconvert_exporter": "python",
   "pygments_lexer": "ipython3",
   "version": "3.8.16"
  }
 },
 "nbformat": 4,
 "nbformat_minor": 5
}
