{
 "cells": [
  {
   "cell_type": "markdown",
   "id": "fcfddfdf-4793-4f33-898e-77f9774ced9c",
   "metadata": {
    "tags": []
   },
   "source": [
    "## 01. 製作各版本ipykernel \n",
    "<span style=\"color:red\">Change to Default kernel:  Pyhon 3 (ipykernel)</span>."
   ]
  },
  {
   "cell_type": "code",
   "execution_count": null,
   "id": "c72c8f37-939b-4137-a9ab-fa4486ca7a64",
   "metadata": {},
   "outputs": [],
   "source": [
    "%%bash\n",
    "# ipykernel\n",
    "ml libs/singularity/3.10.2\n",
    "singularity exec /work/u00cjz00/nvidia/python_3.8.sif pip install -q ipykernel\n",
    "singularity exec /work/u00cjz00/nvidia/python_3.9.sif pip install -q ipykernel\n",
    "singularity exec /work/u00cjz00/nvidia/python_3.10.sif pip install -q ipykernel\n",
    "singularity exec /work/u00cjz00/nvidia/python_3.11.sif pip install -q ipykernel"
   ]
  },
  {
   "cell_type": "code",
   "execution_count": null,
   "id": "5e242974-b47a-4fab-91bd-cff5aa8784ad",
   "metadata": {},
   "outputs": [],
   "source": [
    "!ls  ~/.local/lib"
   ]
  }
 ],
 "metadata": {
  "kernelspec": {
   "display_name": "Python 3 (ipykernel)",
   "language": "python",
   "name": "python3"
  },
  "language_info": {
   "codemirror_mode": {
    "name": "ipython",
    "version": 3
   },
   "file_extension": ".py",
   "mimetype": "text/x-python",
   "name": "python",
   "nbconvert_exporter": "python",
   "pygments_lexer": "ipython3",
   "version": "3.8.16"
  }
 },
 "nbformat": 4,
 "nbformat_minor": 5
}
