{
 "cells": [
  {
   "cell_type": "markdown",
   "id": "e3c0ade8-71ef-4f04-8205-962e78a47788",
   "metadata": {},
   "source": [
    "## 033. EOF + Slurm工作排程 + Singularity指令 + 專用 library folder 之 image容器 kernel\n",
    "<span style=\"color:red\">Change to Default kernel:  Pyhon 3 (ipykernel)</span>."
   ]
  },
  {
   "cell_type": "code",
   "execution_count": 1,
   "id": "d0ece0e4-ccef-4e5a-862d-3c064d22f536",
   "metadata": {},
   "outputs": [],
   "source": [
    "%%bash\n",
    "cat << \\EOF > job.slurm\n",
    "#!/work/u00cjz00/binary/bash5.0/bin/bash\n",
    "#SBATCH -A MST110386                                                    ### project number, Example MST109178\n",
    "#SBATCH -J _t2lora                                                      ### Job name, Exmaple jupyterlab\n",
    "#SBATCH -p gp4d                                                         ### Partition Name, Example ngs1gpu\n",
    "#SBATCH --nodes=1                                                       ### Nodes, Default 1, node number\n",
    "#SBATCH --ntasks-per-node=1                                             ### Tasks, Default 1, per node tasks\n",
    "#SBATCH -c 4                                                            ### Cores assigned to each task, Example 4\n",
    "#SBATCH --gres=gpu:1                                                    ### GPU number, Example gpu:1\n",
    "#SBATCH --time=0-1:00:00                                                ### Runnung time, days-hours:minutes:seconds or hours:minutes:seconds\n",
    "#SBATCH -o genai_%j.out                                                 ### Log folder, Here %j is job ID\n",
    "#SBATCH -e genai_%j.err                                                 ### Log folder, Here %j is job ID\n",
    "\n",
    "\n",
    "### 0. pipi install libsray savefolder\n",
    "saveFolder=home\n",
    "\n",
    "### 1. IMAGE\n",
    "IMAGE=/work/u00cjz00/nvidia/pytorch_2.1.0-cuda11.8-cudnn8-devel.sif\n",
    "IMAGE_basename=S_${saveFolder}_$(basename \"$IMAGE\" .sif)\n",
    "\n",
    "### 2. VIRTUAL LIBRARY and BINARY FOLDER\n",
    "libraryFolder=/${saveFolder}/$(whoami)/libraryFolder/${IMAGE_basename}/local/lib\n",
    "libraryFolder_binding=${libraryFolder}:${HOME}/.local/lib\n",
    "binFolder=/${saveFolder}/$(whoami)/libraryFolder/${IMAGE_basename}/local/bin\n",
    "binFolder_binding=${binFolder}:${HOME}/.local/bin\n",
    "\n",
    "\n",
    "# 3. SINGULARITY\n",
    "ml libs/singularity/3.10.2\n",
    "singularity exec --nv -B /work -B ${libraryFolder_binding} -B ${binFolder_binding} ${IMAGE} \\\n",
    "bash -c \"export PATH=$PATH:$HOME/.local/bin:/work/u00cjz00/os/ubuntu/bin; chainlit --help; sleep 30\" &\n",
    "pid0=$!\n",
    "\n",
    "# 4. Computing NODE\n",
    "noed_hostname=$(hostname -s)\n",
    "noed_port=$(python3 /work/u00cjz00/binary/availablePort.py)\n",
    "node_ip=$(cat /etc/hosts |grep \"$(hostname -a)\" | awk '{print $1}')\n",
    "\n",
    "# 5. Output message\n",
    "echo \"\"\n",
    "echo \"\"\n",
    "echo \"****************************** 請輸入下方指令 ******************************\"\n",
    "echo \"\"\n",
    "echo \"# STEP1: Execute cmd in your client below to login login_node\"\n",
    "echo ssh $(whoami)@ln01.twcc.ai\n",
    "echo \"\"\n",
    "echo \"# STEP2: Login  computing_node \"\n",
    "echo ssh ${noed_hostname}\n",
    "echo \"\"\n",
    "echo \"\"\n",
    "echo \"***********************************************************************************************\"\n",
    "\n",
    "## 6. Get pid\n",
    "pid0=$!\n",
    "sleep 2\n",
    "pid1=$(pgrep -P ${pid0})\n",
    "pid=${pid1}\n",
    "echo \"PID0:${pid0} , PID:${pid1}\"\n",
    "\n",
    "## 7. WAIT JOB\n",
    "wait $pid0\n",
    "\n",
    "EOF"
   ]
  },
  {
   "cell_type": "code",
   "execution_count": 2,
   "id": "65bed6d8-2151-48c4-b720-0094c5d12a9f",
   "metadata": {},
   "outputs": [
    {
     "name": "stdout",
     "output_type": "stream",
     "text": [
      "#!/work/u00cjz00/binary/bash5.0/bin/bash\n",
      "#SBATCH -A MST110386                                                    ### project number, Example MST109178\n",
      "#SBATCH -J _t2lora                                                      ### Job name, Exmaple jupyterlab\n",
      "#SBATCH -p gp4d                                                         ### Partition Name, Example ngs1gpu\n",
      "#SBATCH --nodes=1                                                       ### Nodes, Default 1, node number\n",
      "#SBATCH --ntasks-per-node=1                                             ### Tasks, Default 1, per node tasks\n",
      "#SBATCH -c 4                                                            ### Cores assigned to each task, Example 4\n",
      "#SBATCH --gres=gpu:1                                                    ### GPU number, Example gpu:1\n",
      "#SBATCH --time=0-1:00:00                                                ### Runnung time, days-hours:minutes:seconds or hours:minutes:seconds\n",
      "#SBATCH -o genai_%j.out                                                 ### Log folder, Here %j is job ID\n",
      "#SBATCH -e genai_%j.err                                                 ### Log folder, Here %j is job ID\n",
      "\n",
      "\n",
      "### 0. pipi install libsray savefolder\n",
      "saveFolder=home\n",
      "\n",
      "### 1. IMAGE\n",
      "IMAGE=/work/u00cjz00/nvidia/pytorch_2.1.0-cuda11.8-cudnn8-devel.sif\n",
      "IMAGE_basename=S_${saveFolder}_$(basename \"$IMAGE\" .sif)\n",
      "\n",
      "### 2. VIRTUAL LIBRARY and BINARY FOLDER\n",
      "libraryFolder=/${saveFolder}/$(whoami)/libraryFolder/${IMAGE_basename}/local/lib\n",
      "libraryFolder_binding=${libraryFolder}:${HOME}/.local/lib\n",
      "binFolder=/${saveFolder}/$(whoami)/libraryFolder/${IMAGE_basename}/local/bin\n",
      "binFolder_binding=${binFolder}:${HOME}/.local/bin\n",
      "\n",
      "\n",
      "# 3. SINGULARITY\n",
      "ml libs/singularity/3.10.2\n",
      "singularity exec --nv -B /work -B ${libraryFolder_binding} -B ${binFolder_binding} ${IMAGE} \\\n",
      "bash -c \"export PATH=$PATH:$HOME/.local/bin:/work/u00cjz00/os/ubuntu/bin; chainlit --help; sleep 30\" &\n",
      "pid0=$!\n",
      "\n",
      "# 4. Computing NODE\n",
      "noed_hostname=$(hostname -s)\n",
      "noed_port=$(python3 /work/u00cjz00/binary/availablePort.py)\n",
      "node_ip=$(cat /etc/hosts |grep \"$(hostname -a)\" | awk '{print $1}')\n",
      "\n",
      "# 5. Output message\n",
      "echo \"\"\n",
      "echo \"\"\n",
      "echo \"****************************** 請輸入下方指令 ******************************\"\n",
      "echo \"\"\n",
      "echo \"# STEP1: Execute cmd in your client below to login login_node\"\n",
      "echo ssh $(whoami)@ln01.twcc.ai\n",
      "echo \"\"\n",
      "echo \"# STEP2: Login  computing_node \"\n",
      "echo ssh ${noed_hostname}\n",
      "echo \"\"\n",
      "echo \"\"\n",
      "echo \"***********************************************************************************************\"\n",
      "\n",
      "## 6. Get pid\n",
      "pid0=$!\n",
      "sleep 2\n",
      "pid1=$(pgrep -P ${pid0})\n",
      "pid=${pid1}\n",
      "echo \"PID0:${pid0} , PID:${pid1}\"\n",
      "\n",
      "## 7. WAIT JOB\n",
      "wait $pid0\n",
      "\n"
     ]
    }
   ],
   "source": [
    "!cat job.slurm"
   ]
  },
  {
   "cell_type": "code",
   "execution_count": null,
   "id": "7b9aa1f2-f397-4cc2-8100-c97bbd548dd9",
   "metadata": {},
   "outputs": [],
   "source": [
    "!sbatch job.slurm"
   ]
  },
  {
   "cell_type": "code",
   "execution_count": null,
   "id": "7a204463-e749-4494-b611-1fb8388e6f7b",
   "metadata": {},
   "outputs": [],
   "source": [
    "!squeue -u $(whoami)"
   ]
  },
  {
   "cell_type": "code",
   "execution_count": null,
   "id": "e0301e15-829e-482e-b62c-a9191d22f6c4",
   "metadata": {},
   "outputs": [],
   "source": [
    "!scancel $JOBID"
   ]
  }
 ],
 "metadata": {
  "kernelspec": {
   "display_name": "Python 3 (ipykernel)",
   "language": "python",
   "name": "python3"
  },
  "language_info": {
   "codemirror_mode": {
    "name": "ipython",
    "version": 3
   },
   "file_extension": ".py",
   "mimetype": "text/x-python",
   "name": "python",
   "nbconvert_exporter": "python",
   "pygments_lexer": "ipython3",
   "version": "3.8.16"
  }
 },
 "nbformat": 4,
 "nbformat_minor": 5
}
