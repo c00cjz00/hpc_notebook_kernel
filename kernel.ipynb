{
 "cells": [
  {
   "cell_type": "markdown",
   "id": "b9ce8bee-d797-46c2-a280-7aacc2e241be",
   "metadata": {},
   "source": [
    "## 1. 製作各版本ipykernel \n",
    "<span style=\"color:red\">Change to Default kernel:  Pyhon 3 (ipykernel)</span>."
   ]
  },
  {
   "cell_type": "code",
   "execution_count": null,
   "id": "e7ac1c59-0599-4bda-8073-845669be0949",
   "metadata": {
    "tags": []
   },
   "outputs": [],
   "source": [
    "%%bash\n",
    "# ipykernel\n",
    "ml libs/singularity/3.10.2\n",
    "singularity exec /work/u00cjz00/nvidia/python_3.8.sif pip install -q ipykernel\n",
    "singularity exec /work/u00cjz00/nvidia/python_3.9.sif pip install -q ipykernel\n",
    "singularity exec /work/u00cjz00/nvidia/python_3.10.sif pip install -q ipykernel\n",
    "singularity exec /work/u00cjz00/nvidia/python_3.11.sif pip install -q ipykernel"
   ]
  },
  {
   "cell_type": "code",
   "execution_count": null,
   "id": "a94e5fe2-6e27-4961-bef1-b10efdb78845",
   "metadata": {
    "tags": []
   },
   "outputs": [],
   "source": [
    "!ls  ~/.local/lib"
   ]
  },
  {
   "cell_type": "markdown",
   "id": "ef2b3516-8ebc-49d8-90d2-a98b457879cb",
   "metadata": {},
   "source": [
    "## 2. 製作共用 library folder 之 image容器 kernel\n",
    "<span style=\"color:red\">Change to Default kernel:  Pyhon 3 (ipykernel)</span>."
   ]
  },
  {
   "cell_type": "code",
   "execution_count": null,
   "id": "c2e2f738-a24b-450f-95cf-88ca550f1f4c",
   "metadata": {
    "tags": []
   },
   "outputs": [],
   "source": [
    "%%bash\n",
    "### 1. IMAGE\n",
    "IMAGE=/work/u00cjz00/nvidia/alpaca-lora_latest.sif\n",
    "IMAGE_basename=G_$(basename \"$IMAGE\" .sif)\n",
    "\n",
    "### 2. KERNEL SOURCE\n",
    "IPYKERNEL=/work/u00cjz00/slurm_jobs/ipykernel/t2/image_with_ipykernel\n",
    "\n",
    "### 3. KERNEL TARGET\n",
    "mkdir -p ${HOME}/.local/share/jupyter/kernels/\n",
    "rm -rf ${HOME}/.local/share/jupyter/kernels/${IMAGE_basename}\n",
    "cp -rf ${IPYKERNEL} ${HOME}/.local/share/jupyter/kernels/${IMAGE_basename}\n",
    "chmod -R 755 ${HOME}/.local/share/jupyter/kernels/${IMAGE_basename}\n",
    "\n",
    "### 4. INSET IMAGE SOURCE and NAME in KERNEL.JSON \n",
    "IMAGE_desc=$(echo $IMAGE | sed 's_/_\\\\/_g')\n",
    "sed -i \"s/templateSIF/${IMAGE_desc}/g\" ${HOME}/.local/share/jupyter/kernels/${IMAGE_basename}/kernel.json\n",
    "sed -i \"s/templateImage/Image_${IMAGE_basename}/g\" ${HOME}/.local/share/jupyter/kernels/${IMAGE_basename}/kernel.json"
   ]
  },
  {
   "cell_type": "code",
   "execution_count": null,
   "id": "b230462b-2021-47e5-8493-1449c849e988",
   "metadata": {
    "tags": []
   },
   "outputs": [],
   "source": [
    "%%bash \n",
    "### CHECK  KERNEL.JSON \n",
    "IMAGE=/work/u00cjz00/nvidia/alpaca-lora_latest.sif\n",
    "IMAGE_basename=G_$(basename \"$IMAGE\" .sif)\n",
    "cat ${HOME}/.local/share/jupyter/kernels/${IMAGE_basename}/kernel.json"
   ]
  },
  {
   "cell_type": "markdown",
   "id": "08b721e1-3a24-434f-b23a-dc99a37e55ca",
   "metadata": {},
   "source": [
    "## TRY IT\n",
    "1. Lauch  a new notebook tab\n",
    "2. Change to kernel:  Image_G_alpaca-lora_latest\n",
    "3. In first cell add content below\n",
    "\n",
    "```\n",
    "import os\n",
    "from pathlib import Path\n",
    "HOME = str(Path.home())\n",
    "Add_Binarry_Path=HOME+'/.local/bin:/usr/ubuntu_bin'\n",
    "os.environ['PATH']=os.environ['PATH']+':'+Add_Binarry_Path\n",
    "```"
   ]
  },
  {
   "cell_type": "markdown",
   "id": "8c506d5f-7f0e-4a55-93a3-352e4eca8641",
   "metadata": {},
   "source": [
    "## 3. 製作專用 library folder 之 image容器 kernel\n",
    "<span style=\"color:red\">Change to Default kernel:  Pyhon 3 (ipykernel)</span>."
   ]
  },
  {
   "cell_type": "code",
   "execution_count": 5,
   "id": "f2229d7a-a0ac-4da6-bc9b-4c6a6ac5f615",
   "metadata": {
    "tags": []
   },
   "outputs": [
    {
     "name": "stderr",
     "output_type": "stream",
     "text": [
      "\u001b[33m  WARNING: The script pygmentize is installed in '/home/g00cjz00/.local/bin' which is not on PATH.\n",
      "  Consider adding this directory to PATH or, if you prefer to suppress this warning, use --no-warn-script-location.\u001b[0m\u001b[33m\n",
      "\u001b[0m\u001b[33m  WARNING: The scripts jupyter, jupyter-migrate and jupyter-troubleshoot are installed in '/home/g00cjz00/.local/bin' which is not on PATH.\n",
      "  Consider adding this directory to PATH or, if you prefer to suppress this warning, use --no-warn-script-location.\u001b[0m\u001b[33m\n",
      "\u001b[0m\u001b[33m  WARNING: The scripts jupyter-kernel, jupyter-kernelspec and jupyter-run are installed in '/home/g00cjz00/.local/bin' which is not on PATH.\n",
      "  Consider adding this directory to PATH or, if you prefer to suppress this warning, use --no-warn-script-location.\u001b[0m\u001b[33m\n",
      "\u001b[0m\u001b[33m  WARNING: The scripts ipython and ipython3 are installed in '/home/g00cjz00/.local/bin' which is not on PATH.\n",
      "  Consider adding this directory to PATH or, if you prefer to suppress this warning, use --no-warn-script-location.\u001b[0m\u001b[33m\n",
      "\u001b[0m\n",
      "\u001b[1m[\u001b[0m\u001b[34;49mnotice\u001b[0m\u001b[1;39;49m]\u001b[0m\u001b[39;49m A new release of pip is available: \u001b[0m\u001b[31;49m23.0.1\u001b[0m\u001b[39;49m -> \u001b[0m\u001b[32;49m23.3.1\u001b[0m\n",
      "\u001b[1m[\u001b[0m\u001b[34;49mnotice\u001b[0m\u001b[1;39;49m]\u001b[0m\u001b[39;49m To update, run: \u001b[0m\u001b[32;49mpip install --upgrade pip\u001b[0m\n"
     ]
    }
   ],
   "source": [
    "%%bash\n",
    "### 0. pipi install libsray savefolder\n",
    "saveFolder=home\n",
    "\n",
    "### 1. IMAGE\n",
    "IMAGE=/work/u00cjz00/nvidia/pytorch_2.1.0-cuda11.8-cudnn8-devel.sif\n",
    "IMAGE_basename=S_${saveFolder}_$(basename \"$IMAGE\" .sif)\n",
    "\n",
    "### 2. VIRTUAL LIBRARY and BINARY FOLDER\n",
    "libraryFolder=/${saveFolder}/$(whoami)/libraryFolder/${IMAGE_basename}/local/lib\n",
    "libraryFolder_binding=${libraryFolder}:${HOME}/.local/lib\n",
    "binFolder=/${saveFolder}/$(whoami)/libraryFolder/${IMAGE_basename}/local/bin\n",
    "binFolder_binding=${binFolder}:${HOME}/.local/bin\n",
    "rm -rf /${saveFolder}/$(whoami)/libraryFolder/${IMAGE_basename}\n",
    "mkdir -p ${libraryFolder} ${binFolder}\n",
    "\n",
    "# 3. PIP INSTALL SLAVE IPYKERNEL\n",
    "ml libs/singularity/3.10.2\n",
    "python_version=$(singularity exec ${IMAGE} python3 -c 'import sys; print(\".\".join(map(str, sys.version_info[:2])))')\n",
    "singularity exec -B ${libraryFolder_binding} -B ${binFolder_binding} /work/u00cjz00/nvidia/python_${python_version}.sif pip install -q ipykernel\n",
    "\n",
    "# 4. IPYKERNEL for IMAGE\n",
    "IPYKERNEL=/work/u00cjz00/slurm_jobs/ipykernel/t2/image_with_ipykernel_local\n",
    "mkdir -p ${HOME}/.local/share/jupyter/kernels/\n",
    "rm -rf ${HOME}/.local/share/jupyter/kernels/${IMAGE_basename}\n",
    "cp -rf ${IPYKERNEL} ${HOME}/.local/share/jupyter/kernels/${IMAGE_basename}\n",
    "chmod -R 755 ${HOME}/.local/share/jupyter/kernels/${IMAGE_basename}\n",
    "IMAGE_desc=$(echo $IMAGE | sed 's_/_\\\\/_g')\n",
    "sed -i \"s/templateSIF/${IMAGE_desc}/g\" ${HOME}/.local/share/jupyter/kernels/${IMAGE_basename}/kernel.json\n",
    "sed -i \"s/templateImage/Image_${IMAGE_basename}/g\" ${HOME}/.local/share/jupyter/kernels/${IMAGE_basename}/kernel.json\n",
    "sed -i \"s@templateLibrayFolder@${libraryFolder_binding}@g\" ${HOME}/.local/share/jupyter/kernels/${IMAGE_basename}/kernel.json\n",
    "sed -i \"s@templateBinFolder@${binFolder_binding}@g\" ${HOME}/.local/share/jupyter/kernels/${IMAGE_basename}/kernel.json"
   ]
  },
  {
   "cell_type": "code",
   "execution_count": 6,
   "id": "47b3198e-d7ed-4b02-94a9-1aea20d72398",
   "metadata": {
    "tags": []
   },
   "outputs": [
    {
     "name": "stdout",
     "output_type": "stream",
     "text": [
      "{\n",
      " \"language\": \"python\",\n",
      " \"argv\": [\"/work/opt/ohpc/Taiwania3/libs/singularity/3.10.2/bin/singularity\",\n",
      "   \"exec\",\n",
      "   \"--nv\",\n",
      "   \"--cleanenv\",\n",
      "   \"-B\",\n",
      "   \"/work\",\n",
      "   \"-B\",\n",
      "   \"/home/g00cjz00/libraryFolder/S_home_pytorch_2.1.0-cuda11.8-cudnn8-devel/local/lib:/home/g00cjz00/.local/lib\",\n",
      "   \"-B\",\n",
      "   \"/home/g00cjz00/libraryFolder/S_home_pytorch_2.1.0-cuda11.8-cudnn8-devel/local/bin:/home/g00cjz00/.local/bin\",\n",
      "   \"-B\",\n",
      "   \"/work/u00cjz00/os/ubuntu/bin:/usr/ubuntu_bin\",\n",
      "   \"/work/u00cjz00/nvidia/pytorch_2.1.0-cuda11.8-cudnn8-devel.sif\",\n",
      "   \"python3\",\n",
      "   \"-m\",\n",
      "   \"ipykernel\",\n",
      "   \"-f\",\n",
      "   \"{connection_file}\"\n",
      " ],\n",
      " \"display_name\": \"Image_S_home_pytorch_2.1.0-cuda11.8-cudnn8-devel\"\n",
      "}\n"
     ]
    }
   ],
   "source": [
    "%%bash\n",
    "### CHECK  KERNEL.JSON \n",
    "### 0. pipi install libsray savefolder\n",
    "saveFolder=home\n",
    "IMAGE=/work/u00cjz00/nvidia/pytorch_2.1.0-cuda11.8-cudnn8-devel.sif\n",
    "IMAGE_basename=S_${saveFolder}_$(basename \"$IMAGE\" .sif)\n",
    "cat /home/$(whoami)/.local/share/jupyter/kernels/${IMAGE_basename}/kernel.json"
   ]
  },
  {
   "cell_type": "markdown",
   "id": "36355fea-5377-4166-b826-029804fe72b9",
   "metadata": {},
   "source": [
    "## TRY IT\n",
    "1. Lauch  a new notebook tab\n",
    "2. Change to kernel:  Image_S_home_pytorch_2.1.0-cuda11.8-cudnn8-devel\n",
    "3. In first cell add content below\n",
    "\n",
    "```\n",
    "import os\n",
    "from pathlib import Path\n",
    "HOME = str(Path.home())\n",
    "Add_Binarry_Path=HOME+'/.local/bin:/usr/ubuntu_bin'\n",
    "os.environ['PATH']=os.environ['PATH']+':'+Add_Binarry_Path\n",
    "```"
   ]
  },
  {
   "cell_type": "markdown",
   "id": "13071885-551f-437b-8d94-3ae39f47878f",
   "metadata": {},
   "source": [
    "## 4. DEMO: Image容器\n",
    "<span style=\"color:red\">Change to Default kernel:  Image_S_home_pytorch_2.1.0-cuda11.8-cudnn8-devel</span>."
   ]
  },
  {
   "cell_type": "code",
   "execution_count": 1,
   "id": "2adc582f-1efc-415b-a117-80e45277342c",
   "metadata": {
    "tags": []
   },
   "outputs": [],
   "source": [
    "# 新增讀取套件安裝位置\n",
    "import os\n",
    "from pathlib import Path\n",
    "HOME = str(Path.home())\n",
    "Add_Binarry_Path=HOME+'/.local/bin:/usr/ubuntu_bin'\n",
    "os.environ['PATH']=os.environ['PATH']+':'+Add_Binarry_Path"
   ]
  },
  {
   "cell_type": "code",
   "execution_count": 2,
   "id": "14f8f983-aeb5-4491-aa62-115ec10612b5",
   "metadata": {
    "tags": []
   },
   "outputs": [
    {
     "name": "stdout",
     "output_type": "stream",
     "text": [
      "chainlit                                 0.7.604      /home/g00cjz00/.local/lib/python3.10/site-packages pip\n"
     ]
    }
   ],
   "source": [
    "!pip install chainlit -q\n",
    "!pip list -v |grep chainlit"
   ]
  },
  {
   "cell_type": "code",
   "execution_count": 3,
   "id": "967a2f80-4cb0-460b-a401-f1ac2795ee99",
   "metadata": {
    "tags": []
   },
   "outputs": [
    {
     "name": "stdout",
     "output_type": "stream",
     "text": [
      "Usage: chainlit [OPTIONS] COMMAND [ARGS]...\n",
      "\n",
      "Options:\n",
      "  --version  Show the version and exit.\n",
      "  --help     Show this message and exit.\n",
      "\n",
      "Commands:\n",
      "  create-secret\n",
      "  hello\n",
      "  init\n",
      "  run\n"
     ]
    }
   ],
   "source": [
    "!chainlit --help"
   ]
  },
  {
   "cell_type": "code",
   "execution_count": 4,
   "id": "7638f4ef-d7be-426e-a626-295ab9d03ad0",
   "metadata": {
    "tags": []
   },
   "outputs": [
    {
     "name": "stdout",
     "output_type": "stream",
     "text": [
      "/home/g00cjz00/.local/bin/chainlit\n"
     ]
    }
   ],
   "source": [
    "!which chainlit"
   ]
  },
  {
   "cell_type": "code",
   "execution_count": 2,
   "id": "2306c2bb-667e-4a1e-b749-213690ad447a",
   "metadata": {
    "tags": []
   },
   "outputs": [
    {
     "name": "stdout",
     "output_type": "stream",
     "text": [
      "chainlit  ipython3\t      jupyter-run\t\tuvicorn\n",
      "dotenv\t  jupyter\t      jupyter-troubleshoot\twatchfiles\n",
      "filetype  jupyter-kernel      opentelemetry-bootstrap\n",
      "httpx\t  jupyter-kernelspec  opentelemetry-instrument\n",
      "ipython   jupyter-migrate     pygmentize\n"
     ]
    }
   ],
   "source": [
    "!ls $HOME/libraryFolder/S_home_pytorch_2.1.0-cuda11.8-cudnn8-devel/local/bin"
   ]
  },
  {
   "cell_type": "code",
   "execution_count": null,
   "id": "aaa4e5cd-b564-4aa9-981a-8080ec9f49f7",
   "metadata": {},
   "outputs": [],
   "source": []
  },
  {
   "cell_type": "markdown",
   "id": "a1f8b1b9-03be-4c62-a851-1df08b6dde8f",
   "metadata": {},
   "source": [
    "## 5. Singularity指令 + 共用 library folder 之 image容器 kernel\n",
    "<span style=\"color:red\">Change to Default kernel:  Pyhon 3 (ipykernel)</span>."
   ]
  },
  {
   "cell_type": "code",
   "execution_count": null,
   "id": "14f531e2-1286-47ca-a71b-400caf3cb637",
   "metadata": {
    "tags": []
   },
   "outputs": [],
   "source": [
    "%%bash\n",
    "### 1. IMAGE\n",
    "IMAGE=/work/u00cjz00/nvidia/alpaca-lora_latest.sif\n",
    "IMAGE_basename=S_$(basename \"$IMAGE\" .sif)\n",
    "\n",
    "# 2. SINGULARITY \n",
    "ml libs/singularity/3.10.2\n",
    "singularity exec --nv -B /work ${IMAGE} \\\n",
    "bash -c \"export PATH=$PATH:$HOME/.local/bin:/work/u00cjz00/os/ubuntu/bin; git --help\""
   ]
  },
  {
   "cell_type": "markdown",
   "id": "5ae11c8f-b0ee-4406-84f8-59091e8ace62",
   "metadata": {},
   "source": [
    "## 6. Singularity指令 + 專用 library folder 之 image容器 kernel\n",
    "<span style=\"color:red\">Change to Default kernel:  Pyhon 3 (ipykernel)</span>."
   ]
  },
  {
   "cell_type": "code",
   "execution_count": null,
   "id": "21210a51-1fc7-4034-9d3a-6b315e6f6f17",
   "metadata": {
    "tags": []
   },
   "outputs": [],
   "source": [
    "%%bash\n",
    "### 1. IMAGE\n",
    "IMAGE=/work/u00cjz00/nvidia/alpaca-lora_latest.sif\n",
    "IMAGE_basename=S_$(basename \"$IMAGE\" .sif)\n",
    "\n",
    "### 2. VIRTUAL LIBRARY and BINARY FOLDER\n",
    "libraryFolder=/home/$(whoami)/libraryFolder/${IMAGE_basename}/.local/lib\n",
    "libraryFolder_binding=${libraryFolder}:/home/$(whoami)/.local/lib\n",
    "binFolder=/home/$(whoami)/libraryFolder/${IMAGE_basename}/.local/bin\n",
    "binFolder_binding=${binFolder}:/home/$(whoami)/.local/bin\n",
    "\n",
    "# 3. SINGULARITY \n",
    "ml libs/singularity/3.10.2\n",
    "singularity exec -B ${libraryFolder}:/home/$(whoami)/.local/lib -B ${binFolder}:/home/$(whoami)/.local/bin ${IMAGE} \\\n",
    "bash -c \"export PATH=$PATH:$HOME/.local/bin:/work/u00cjz00/os/ubuntu/bin; git --help\""
   ]
  },
  {
   "cell_type": "markdown",
   "id": "c616cc9b-2b77-4102-bddf-3df487bfc125",
   "metadata": {},
   "source": [
    "## 7. Slurm工作排程 + Singularity指令 + 專用 library folder 之 image容器 kernel\n",
    "<span style=\"color:red\">ONLY DEMO CODE</span>."
   ]
  },
  {
   "cell_type": "raw",
   "id": "37c592e3-f4ef-4a7c-a25c-bf0ab2622e1d",
   "metadata": {},
   "source": [
    "#!/work/u00cjz00/binary/bash5.0/bin/bash\n",
    "#SBATCH -A MST110386                                                    ### project number, Example MST109178\n",
    "#SBATCH -J _t2lora                                                      ### Job name, Exmaple jupyterlab\n",
    "#SBATCH -p gp4d                                                         ### Partition Name, Example ngs1gpu\n",
    "#SBATCH --nodes=1                                                       ### Nodes, Default 1, node number\n",
    "#SBATCH --ntasks-per-node=1                                             ### Tasks, Default 1, per node tasks\n",
    "#SBATCH -c 4                                                            ### Cores assigned to each task, Example 4\n",
    "#SBATCH --gres=gpu:1                                                    ### GPU number, Example gpu:1\n",
    "#SBATCH --time=0-1:00:00                                                ### Runnung time, days-hours:minutes:seconds or hours:minutes:seconds\n",
    "#SBATCH -o genai_%j.out                                                 ### Log folder, Here %j is job ID\n",
    "#SBATCH -e genai_%j.err                                                 ### Log folder, Here %j is job ID\n",
    "\n",
    "### 1. IMAGE\n",
    "IMAGE=/work/u00cjz00/nvidia/alpaca-lora_latest.sif\n",
    "IMAGE_basename=S_$(basename \"$IMAGE\" .sif)\n",
    "\n",
    "### 2. VIRTUAL LIBRARY and BINARY FOLDER\n",
    "libraryFolder=/home/$(whoami)/libraryFolder/${IMAGE_basename}/.local/lib\n",
    "libraryFolder_binding=${libraryFolder}:/home/$(whoami)/.local/lib\n",
    "binFolder=/home/$(whoami)/libraryFolder/${IMAGE_basename}/.local/bin\n",
    "binFolder_binding=${binFolder}:/home/$(whoami)/.local/bin\n",
    "\n",
    "# 3. SINGULARITY \n",
    "ml libs/singularity/3.10.2\n",
    "singularity exec -B ${libraryFolder}:/home/$(whoami)/.local/lib -B ${binFolder}:/home/$(whoami)/.local/bin ${IMAGE} \\\n",
    "bash -c \"export PATH=$PATH:$HOME/.local/bin:/work/u00cjz00/os/ubuntu/bin; git --help; sleep 30\"\n",
    "pid0=$!\n",
    "\n",
    "# 4. Computing NODE\n",
    "noed_hostname=$(hostname -s)\n",
    "noed_port=$(python3 /work/u00cjz00/binary/availablePort.py)\n",
    "node_ip=$(cat /etc/hosts |grep \"$(hostname -a)\" | awk '{print $1}')\n",
    "\n",
    "# 5. Output message\n",
    "echo \"\"\n",
    "echo \"\"\n",
    "echo \"****************************** 請輸入下方指令 ******************************\"\n",
    "echo \"\"\n",
    "echo \"# STEP1: Execute cmd in your client below to login login_node\"\n",
    "echo ssh ${iam}@ln01.twcc.ai\n",
    "echo \"\"\n",
    "echo \"# STEP2: Login  computing_node \"\n",
    "echo ssh ${noed_hostname}\n",
    "echo \"\"\n",
    "echo \"\"\n",
    "echo \"***********************************************************************************************\"\n",
    "\n",
    "## 6. Get pid\n",
    "pid0=$!\n",
    "sleep 2\n",
    "pid1=$(pgrep -P ${pid0})\n",
    "pid=${pid1}\n",
    "echo \"PID0:${pid0} , PID:${pid1}\"\n",
    "\n",
    "## 7. WAIT JOB\n",
    "wait $pid0"
   ]
  },
  {
   "cell_type": "markdown",
   "id": "331d8f17-6b64-41c3-95c5-81db20019316",
   "metadata": {
    "tags": []
   },
   "source": [
    "## 8. EOF + Singularity指令 + 專用 library folder 之 image容器 kernel\n",
    "<span style=\"color:red\">Change to Default kernel:  Pyhon 3 (ipykernel)</span>."
   ]
  },
  {
   "cell_type": "code",
   "execution_count": null,
   "id": "30b1c12a-2c2c-4829-a073-b1c63d5aa633",
   "metadata": {
    "tags": []
   },
   "outputs": [],
   "source": [
    "%%bash\n",
    "cat << \\EOF > job.sh\n",
    "### 1. IMAGE\n",
    "IMAGE=/work/u00cjz00/nvidia/alpaca-lora_latest.sif\n",
    "IMAGE_basename=S_$(basename \"$IMAGE\" .sif)\n",
    "\n",
    "### 2. VIRTUAL LIBRARY and BINARY FOLDER\n",
    "libraryFolder=/home/$(whoami)/libraryFolder/${IMAGE_basename}/.local/lib\n",
    "libraryFolder_binding=${libraryFolder}:/home/$(whoami)/.local/lib\n",
    "binFolder=/home/$(whoami)/libraryFolder/${IMAGE_basename}/.local/bin\n",
    "binFolder_binding=${binFolder}:/home/$(whoami)/.local/bin\n",
    "\n",
    "# 3. SINGULARITY \n",
    "ml libs/singularity/3.10.2\n",
    "singularity exec --nv -B /work -B ${libraryFolder}:/home/$(whoami)/.local/lib -B ${binFolder}:/home/$(whoami)/.local/bin ${IMAGE} \\\n",
    "bash -c \"export PATH=$PATH:$HOME/.local/bin:/work/u00cjz00/os/ubuntu/bin; git --help\"\n",
    "EOF"
   ]
  },
  {
   "cell_type": "code",
   "execution_count": null,
   "id": "3c5ebaad-4f5d-4367-a6e6-fc4922f4296f",
   "metadata": {
    "tags": []
   },
   "outputs": [],
   "source": [
    "!cat job.sh"
   ]
  },
  {
   "cell_type": "code",
   "execution_count": null,
   "id": "1b8c707c-bf60-4724-bad2-d2a425bf727a",
   "metadata": {
    "tags": []
   },
   "outputs": [],
   "source": [
    "!bash job.sh"
   ]
  },
  {
   "cell_type": "markdown",
   "id": "de944add-83f0-4acc-9d36-be463141337d",
   "metadata": {},
   "source": [
    "## 9. EOF + Slurm工作排程 + Singularity指令 + 專用 library folder 之 image容器 kernel\n",
    "<span style=\"color:red\">Change to Default kernel:  Pyhon 3 (ipykernel)</span>."
   ]
  },
  {
   "cell_type": "code",
   "execution_count": null,
   "id": "bac0aef4-07bf-4eb3-873e-aba09f49a4c7",
   "metadata": {
    "tags": []
   },
   "outputs": [],
   "source": [
    "%%bash\n",
    "cat << \\EOF > job.slurm\n",
    "#!/work/u00cjz00/binary/bash5.0/bin/bash\n",
    "#SBATCH -A MST110386                                                    ### project number, Example MST109178\n",
    "#SBATCH -J _t2lora                                                      ### Job name, Exmaple jupyterlab\n",
    "#SBATCH -p gp4d                                                         ### Partition Name, Example ngs1gpu\n",
    "#SBATCH --nodes=1                                                       ### Nodes, Default 1, node number\n",
    "#SBATCH --ntasks-per-node=1                                             ### Tasks, Default 1, per node tasks\n",
    "#SBATCH -c 4                                                            ### Cores assigned to each task, Example 4\n",
    "#SBATCH --gres=gpu:1                                                    ### GPU number, Example gpu:1\n",
    "#SBATCH --time=0-1:00:00                                                ### Runnung time, days-hours:minutes:seconds or hours:minutes:seconds\n",
    "#SBATCH -o genai_%j.out                                                 ### Log folder, Here %j is job ID\n",
    "#SBATCH -e genai_%j.err                                                 ### Log folder, Here %j is job ID\n",
    "\n",
    "### 1. IMAGE\n",
    "IMAGE=/work/u00cjz00/nvidia/alpaca-lora_latest.sif\n",
    "IMAGE_basename=S_$(basename \"$IMAGE\" .sif)\n",
    "\n",
    "### 2. VIRTUAL LIBRARY and BINARY FOLDER\n",
    "libraryFolder=/home/$(whoami)/libraryFolder/${IMAGE_basename}/.local/lib\n",
    "libraryFolder_binding=${libraryFolder}:/home/$(whoami)/.local/lib\n",
    "binFolder=/home/$(whoami)/libraryFolder/${IMAGE_basename}/.local/bin\n",
    "binFolder_binding=${binFolder}:/home/$(whoami)/.local/bin\n",
    "\n",
    "# 3. SINGULARITY \n",
    "ml libs/singularity/3.10.2\n",
    "singularity exec -B ${libraryFolder}:/home/$(whoami)/.local/lib -B ${binFolder}:/home/$(whoami)/.local/bin ${IMAGE} \\\n",
    "bash -c \"export PATH=$PATH:$HOME/.local/bin:/work/u00cjz00/os/ubuntu/bin; git --help; sleep 30\"\n",
    "pid0=$!\n",
    "\n",
    "# 4. Computing NODE\n",
    "noed_hostname=$(hostname -s)\n",
    "noed_port=$(python3 /work/u00cjz00/binary/availablePort.py)\n",
    "node_ip=$(cat /etc/hosts |grep \"$(hostname -a)\" | awk '{print $1}')\n",
    "\n",
    "# 5. Output message\n",
    "echo \"\"\n",
    "echo \"\"\n",
    "echo \"****************************** 請輸入下方指令 ******************************\"\n",
    "echo \"\"\n",
    "echo \"# STEP1: Execute cmd in your client below to login login_node\"\n",
    "echo ssh ${iam}@ln01.twcc.ai\n",
    "echo \"\"\n",
    "echo \"# STEP2: Login  computing_node \"\n",
    "echo ssh ${noed_hostname}\n",
    "echo \"\"\n",
    "echo \"\"\n",
    "echo \"***********************************************************************************************\"\n",
    "\n",
    "## 6. Get pid\n",
    "pid0=$!\n",
    "sleep 2\n",
    "pid1=$(pgrep -P ${pid0})\n",
    "pid=${pid1}\n",
    "echo \"PID0:${pid0} , PID:${pid1}\"\n",
    "\n",
    "## 7. WAIT JOB\n",
    "wait $pid0\n",
    "\n",
    "EOF"
   ]
  },
  {
   "cell_type": "code",
   "execution_count": null,
   "id": "471f5df4-d07a-4f2c-b2f3-0d3ea72d7252",
   "metadata": {
    "tags": []
   },
   "outputs": [],
   "source": [
    "!cat job.slurm"
   ]
  },
  {
   "cell_type": "code",
   "execution_count": null,
   "id": "e2912706-3105-4baa-85fa-de9e7287a104",
   "metadata": {},
   "outputs": [],
   "source": [
    "!sbatch job.slurm"
   ]
  }
 ],
 "metadata": {
  "kernelspec": {
   "display_name": "Python 3 (ipykernel)",
   "language": "python",
   "name": "python3"
  },
  "language_info": {
   "codemirror_mode": {
    "name": "ipython",
    "version": 3
   },
   "file_extension": ".py",
   "mimetype": "text/x-python",
   "name": "python",
   "nbconvert_exporter": "python",
   "pygments_lexer": "ipython3",
   "version": "3.8.16"
  }
 },
 "nbformat": 4,
 "nbformat_minor": 5
}
