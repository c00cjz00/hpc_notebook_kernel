{
 "cells": [
  {
   "cell_type": "code",
   "execution_count": 1,
   "id": "a6b1dbff-496f-486f-8f2a-2d41b9d4f051",
   "metadata": {
    "tags": []
   },
   "outputs": [],
   "source": [
    "import os\n",
    "from pathlib import Path\n",
    "HOME = str(Path.home())\n",
    "Add_Binarry_Path=HOME+'/.local/bin:/usr/ubuntu_bin'\n",
    "os.environ['PATH']=os.environ['PATH']+':'+Add_Binarry_Path"
   ]
  },
  {
   "cell_type": "code",
   "execution_count": 2,
   "id": "cf740527-42f0-4942-bd20-cce0b9f36ba2",
   "metadata": {},
   "outputs": [
    {
     "name": "stdout",
     "output_type": "stream",
     "text": [
      "Note: you may need to restart the kernel to use updated packages.\n"
     ]
    }
   ],
   "source": [
    "pip install -r requirements.txt -q"
   ]
  },
  {
   "cell_type": "code",
   "execution_count": 3,
   "id": "a06e4f24-340f-4e9e-b38f-a9ae257be55d",
   "metadata": {
    "tags": []
   },
   "outputs": [],
   "source": [
    "# 01: Configure\n",
    "pdf_file='Medical_Chatbot.pdf'\n",
    "PINECONE_API_KEY='20163887-a4fa-44e7-98d2-ab1eb38937f6'\n",
    "PINECONE_API_ENV='gcp-starter'\n",
    "index_name=\"cjz-medical\"\n",
    "Embeddings_ID=\"/work/u00cjz00/nvidia/all-MiniLM-L6-v2\""
   ]
  },
  {
   "cell_type": "code",
   "execution_count": 4,
   "id": "cc3acb65-0a12-41a6-b7a8-3279479df7ac",
   "metadata": {
    "tags": []
   },
   "outputs": [
    {
     "name": "stderr",
     "output_type": "stream",
     "text": [
      "/home/g00cjz00/.local/lib/python3.10/site-packages/pinecone/index.py:4: TqdmExperimentalWarning: Using `tqdm.autonotebook.tqdm` in notebook mode. Use `tqdm.tqdm` instead to force console mode (e.g. in jupyter console)\n",
      "  from tqdm.autonotebook import tqdm\n"
     ]
    }
   ],
   "source": [
    "# 02: Load LIBRARY\n",
    "from langchain.document_loaders import PyPDFLoader, DirectoryLoader\n",
    "from langchain.text_splitter import RecursiveCharacterTextSplitter\n",
    "from langchain.embeddings import HuggingFaceEmbeddings\n",
    "from langchain.vectorstores import Pinecone\n",
    "import pinecone"
   ]
  },
  {
   "cell_type": "code",
   "execution_count": 5,
   "id": "a217d44f-8110-44cf-9dc6-aa08197e95f9",
   "metadata": {
    "tags": []
   },
   "outputs": [],
   "source": [
    "# 03: Locad PDF\n",
    "loader= PyPDFLoader(pdf_file)\n",
    "data=loader.load()\n",
    "#data"
   ]
  },
  {
   "cell_type": "code",
   "execution_count": 6,
   "id": "1d19b76d-2489-4a2e-9a17-dc2c60b12faa",
   "metadata": {
    "tags": []
   },
   "outputs": [
    {
     "data": {
      "text/plain": [
       "[Document(page_content='thewaves are blocked or become randomly scattered.', metadata={'source': 'Medical_Chatbot.pdf', 'page': 17}),\n",
       " Document(page_content='Four different modes of ultrasound are used in med-\\nical imaging:\\n• A-mode. This is the simplest type of ultrasound in\\nwhich a single transducer scans a line through the bodywith the echoes plotted on screen as a function ofdepth. This method is used to measure distances withinthe body and the size of internal organs. Therapeuticultrasound aimed at a specific tumor or calculus is alsoA-mode, to allow for pinpoint accurate focus of thedestructive wave energy.', metadata={'source': 'Medical_Chatbot.pdf', 'page': 17}),\n",
       " Document(page_content='• B-mode. In B-mode ultrasound, a linear array of trans-\\nducers simultaneously scans a plane through the bodythat can be viewed as a two-dimensional image onscreen. Ultrasound probes containing more than 100transducers in sequence form the basis for these mostcommonly used scanners, which cost about $50,000.\\n• M-Mode. The M stands for motion. A rapid sequence', metadata={'source': 'Medical_Chatbot.pdf', 'page': 17})]"
      ]
     },
     "execution_count": 6,
     "metadata": {},
     "output_type": "execute_result"
    }
   ],
   "source": [
    "# 04: Text splitter\n",
    "text_splitter=RecursiveCharacterTextSplitter(chunk_size=500, chunk_overlap=0)\n",
    "docs=text_splitter.split_documents(data)\n",
    "docs[100:103]"
   ]
  },
  {
   "cell_type": "code",
   "execution_count": 7,
   "id": "47c9ecba-c1e9-4405-a674-bd56f27315d2",
   "metadata": {
    "tags": []
   },
   "outputs": [],
   "source": [
    "# 05: Embeddings 模型 384維度 \n",
    "#embeddings=HuggingFaceEmbeddings(model_name='sentence-transformers/all-MiniLM-L6-v2')\n",
    "embeddings=HuggingFaceEmbeddings(model_name='/work/u00cjz00/nvidia/all-MiniLM-L6-v2')"
   ]
  },
  {
   "cell_type": "code",
   "execution_count": 8,
   "id": "c58c9f3d-a306-48ed-aeec-6ab35c067535",
   "metadata": {
    "tags": []
   },
   "outputs": [],
   "source": [
    "# 06: 儲存至 pinecone 向量資料庫\n",
    "pinecone.init(api_key=PINECONE_API_KEY, environment=PINECONE_API_ENV)\n",
    "docsearch = Pinecone.from_texts([t.page_content for t in docs], embeddings, index_name=index_name)"
   ]
  },
  {
   "cell_type": "code",
   "execution_count": null,
   "id": "8cab34aa-95c8-4262-9a51-fb2b0e726882",
   "metadata": {},
   "outputs": [],
   "source": []
  }
 ],
 "metadata": {
  "kernelspec": {
   "display_name": "Image_S_home_pytorch_2.1.0-cuda11.8-cudnn8-devel",
   "language": "python",
   "name": "s_home_pytorch_2.1.0-cuda11.8-cudnn8-devel"
  },
  "language_info": {
   "codemirror_mode": {
    "name": "ipython",
    "version": 3
   },
   "file_extension": ".py",
   "mimetype": "text/x-python",
   "name": "python",
   "nbconvert_exporter": "python",
   "pygments_lexer": "ipython3",
   "version": "3.10.13"
  }
 },
 "nbformat": 4,
 "nbformat_minor": 5
}
