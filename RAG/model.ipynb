{
 "cells": [
  {
   "cell_type": "code",
   "execution_count": 1,
   "id": "a540a7c2-aa28-4d91-8cf8-de9c7a8a513c",
   "metadata": {
    "tags": []
   },
   "outputs": [],
   "source": [
    "import os\n",
    "from pathlib import Path\n",
    "HOME = str(Path.home())\n",
    "Add_Binarry_Path=HOME+'/.local/bin:/usr/ubuntu_bin'\n",
    "os.environ['PATH']=os.environ['PATH']+':'+Add_Binarry_Path"
   ]
  },
  {
   "cell_type": "code",
   "execution_count": 2,
   "id": "53099bde-f4aa-4e33-8aae-d94d2479c170",
   "metadata": {},
   "outputs": [
    {
     "name": "stdout",
     "output_type": "stream",
     "text": [
      "Note: you may need to restart the kernel to use updated packages.\n"
     ]
    }
   ],
   "source": [
    "pip install -r requirements.txt -q"
   ]
  },
  {
   "cell_type": "code",
   "execution_count": 3,
   "id": "a06e4f24-340f-4e9e-b38f-a9ae257be55d",
   "metadata": {
    "tags": []
   },
   "outputs": [],
   "source": [
    "# 01: Configure\n",
    "pdf_file='Medical_Chatbot.pdf'\n",
    "PINECONE_API_KEY='20163887-a4fa-44e7-98d2-ab1eb38937f6'\n",
    "PINECONE_API_ENV='gcp-starter'\n",
    "index_name=\"cjz-medical\"\n",
    "Embeddings_ID=\"/work/u00cjz00/nvidia/all-MiniLM-L6-v2\"\n",
    "MODEL_ID = \"/work/u00cjz00/slurm_jobs/github/models/Llama-2-7B-Chat-GPTQ\""
   ]
  },
  {
   "cell_type": "code",
   "execution_count": 4,
   "id": "cc3acb65-0a12-41a6-b7a8-3279479df7ac",
   "metadata": {
    "tags": []
   },
   "outputs": [],
   "source": [
    "# 02: Load LIBRARY\n",
    "from langchain.embeddings import HuggingFaceEmbeddings\n",
    "from langchain.llms import HuggingFacePipeline\n",
    "from langchain.vectorstores import Pinecone\n",
    "from langchain.chains.question_answering import load_qa_chain\n",
    "from transformers import AutoModelForCausalLM, AutoTokenizer, pipeline\n",
    "import transformers\n",
    "import torch\n",
    "import pinecone"
   ]
  },
  {
   "cell_type": "code",
   "execution_count": 5,
   "id": "f2b8b060-4ca4-4369-8c97-81bb6256910e",
   "metadata": {
    "tags": []
   },
   "outputs": [],
   "source": [
    "# 03: Embeddings 模型 384維度 \n",
    "embeddings=HuggingFaceEmbeddings(model_name=Embeddings_ID)"
   ]
  },
  {
   "cell_type": "code",
   "execution_count": 6,
   "id": "301c4a3b-184e-460d-945c-8e5cf9c36ab9",
   "metadata": {
    "tags": []
   },
   "outputs": [],
   "source": [
    "# 04: LLM模型\n",
    "model = AutoModelForCausalLM.from_pretrained(MODEL_ID, device_map=\"auto\")\n",
    "tokenizer=AutoTokenizer.from_pretrained(MODEL_ID)\n",
    "pipeline = transformers.pipeline(\n",
    "        \"text-generation\",\n",
    "        model=model,\n",
    "        tokenizer=tokenizer,\n",
    "        torch_dtype=torch.float16,\n",
    "        trust_remote_code=True,\n",
    "        device_map=\"auto\",\n",
    "        max_length=1024,\n",
    "        do_sample=True,\n",
    "        top_k=10,\n",
    "        num_return_sequences=1,\n",
    "        eos_token_id=tokenizer.eos_token_id,\n",
    "        #streamer=streamer\n",
    ")\n",
    "llm=HuggingFacePipeline(pipeline=pipeline, model_kwargs={'temperature':0.7})"
   ]
  },
  {
   "cell_type": "code",
   "execution_count": 7,
   "id": "5fd3a097-28ac-4667-9847-5e5b43bfa1ee",
   "metadata": {
    "tags": []
   },
   "outputs": [],
   "source": [
    "# 05: 連線 pinecone 向量資料庫\n",
    "pinecone.init(api_key=PINECONE_API_KEY, environment=PINECONE_API_ENV)\n",
    "docsearch=Pinecone.from_existing_index(index_name, embeddings)"
   ]
  },
  {
   "cell_type": "code",
   "execution_count": 8,
   "id": "96880f36-4bcf-49b4-8fcc-877e6d6d8b0a",
   "metadata": {
    "tags": []
   },
   "outputs": [
    {
     "data": {
      "text/plain": [
       "[Document(page_content='allergy develops against the offending sub-stance (an allergen.)'),\n",
       " Document(page_content=\"GALE ENCYCLOPEDIA OF MEDICINE 2 117Allergies\\nAllergic rhinitis is commonly triggered by\\nexposure to household dust, animal fur,or pollen. The foreign substance thattriggers an allergic reaction is calledan allergen.\\nThe presence of an allergen causes the\\nbody's lymphocytes to begin producingIgE antibodies. The lymphocytes of an allergy sufferer produce an unusuallylarge amount of IgE.\\nIgE molecules attach to mast\\ncells, which contain histamine.HistaminePollen grains\\nLymphocyte\\nFIRST EXPOSURE\"),\n",
       " Document(page_content='allergens are the following:\\n• plant pollens\\n• animal fur and dander\\n• body parts from house mites (microscopic creatures\\nfound in all houses)\\n• house dust• mold spores• cigarette smoke• solvents• cleaners\\nCommon food allergens include the following:\\n• nuts, especially peanuts, walnuts, and brazil nuts\\n• fish, mollusks, and shellfish• eggs• wheat• milk• food additives and preservatives\\nThe following types of drugs commonly cause aller-\\ngic reactions:\\n• penicillin or other antibiotics')]"
      ]
     },
     "execution_count": 8,
     "metadata": {},
     "output_type": "execute_result"
    }
   ],
   "source": [
    "# 06: 搜尋 pinecone 向量資料庫, 列出前三名\n",
    "query = \"What are Allergies\"\n",
    "docs=docsearch.similarity_search(query, k=3)\n",
    "docs"
   ]
  },
  {
   "cell_type": "code",
   "execution_count": 9,
   "id": "679e257a-169f-4a80-9889-c7264882c7bf",
   "metadata": {
    "tags": []
   },
   "outputs": [
    {
     "name": "stderr",
     "output_type": "stream",
     "text": [
      "/home/g00cjz00/.local/lib/python3.10/site-packages/transformers/generation/utils.py:1473: UserWarning: You have modified the pretrained model configuration to control generation. This is a deprecated strategy to control generation and will be removed soon, in a future version. Please use and modify the model generation configuration (see https://huggingface.co/docs/transformers/generation_strategies#default-text-generation-configuration )\n",
      "  warnings.warn(\n"
     ]
    },
    {
     "data": {
      "text/plain": [
       "' Allergy is an exaggerated immune system response to a harmless substance (an allergen). The immune system mistakes the allergen as harmful and tries to fight it with various chemicals and symptoms.'"
      ]
     },
     "execution_count": 9,
     "metadata": {},
     "output_type": "execute_result"
    }
   ],
   "source": [
    "# 07. LLM彙整\n",
    "chain = load_qa_chain(llm, chain_type=\"stuff\")\n",
    "result=chain.run(input_documents=docs, question=query)\n",
    "result"
   ]
  }
 ],
 "metadata": {
  "kernelspec": {
   "display_name": "Image_S_home_pytorch_2.1.0-cuda11.8-cudnn8-devel",
   "language": "python",
   "name": "s_home_pytorch_2.1.0-cuda11.8-cudnn8-devel"
  },
  "language_info": {
   "codemirror_mode": {
    "name": "ipython",
    "version": 3
   },
   "file_extension": ".py",
   "mimetype": "text/x-python",
   "name": "python",
   "nbconvert_exporter": "python",
   "pygments_lexer": "ipython3",
   "version": "3.10.13"
  }
 },
 "nbformat": 4,
 "nbformat_minor": 5
}
