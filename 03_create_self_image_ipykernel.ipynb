{
 "cells": [
  {
   "cell_type": "markdown",
   "id": "1f8f93ae-3208-4361-a023-d24a5109f951",
   "metadata": {},
   "source": [
    "## 03. 製作專用 library folder 之 image容器 kernel\n",
    "<span style=\"color:red\">Change to Default kernel:  Pyhon 3 (ipykernel)</span>."
   ]
  },
  {
   "cell_type": "code",
   "execution_count": 1,
   "id": "36e2b37a-e84b-4db0-9520-a862829ecc36",
   "metadata": {
    "tags": []
   },
   "outputs": [
    {
     "name": "stdout",
     "output_type": "stream",
     "text": [
      "/home/g00cjz00/.local/share/jupyter/kernels/G_pytorch_2.1.0-cuda11.8-cudnn8-devel/kernel.json\n"
     ]
    }
   ],
   "source": [
    "%%bash\n",
    "### 0. pipi install libsray savefolder\n",
    "saveFolder=home\n",
    "\n",
    "### 1. IMAGE\n",
    "IMAGE=/work/u00cjz00/nvidia/pytorch_2.1.0-cuda11.8-cudnn8-devel.sif\n",
    "IMAGE_basename=S_${saveFolder}_$(basename \"$IMAGE\" .sif)\n",
    "\n",
    "### 2. VIRTUAL LIBRARY and BINARY FOLDER\n",
    "libraryFolder=/${saveFolder}/$(whoami)/libraryFolder/${IMAGE_basename}/local/lib\n",
    "libraryFolder_binding=${libraryFolder}:${HOME}/.local/lib\n",
    "binFolder=/${saveFolder}/$(whoami)/libraryFolder/${IMAGE_basename}/local/bin\n",
    "binFolder_binding=${binFolder}:${HOME}/.local/bin\n",
    "rm -rf /${saveFolder}/$(whoami)/libraryFolder/${IMAGE_basename}\n",
    "mkdir -p ${libraryFolder} ${binFolder}\n",
    "\n",
    "# 3. PIP INSTALL SLAVE IPYKERNEL\n",
    "ml libs/singularity/3.10.2\n",
    "python_version=$(singularity exec ${IMAGE} python3 -c 'import sys; print(\".\".join(map(str, sys.version_info[:2])))')\n",
    "singularity exec -B ${libraryFolder_binding} -B ${binFolder_binding} /work/u00cjz00/nvidia/python_${python_version}.sif pip install -q ipykernel\n",
    "\n",
    "# 4. IPYKERNEL for IMAGE\n",
    "IPYKERNEL=/work/u00cjz00/slurm_jobs/ipykernel/t2/image_with_ipykernel_local\n",
    "mkdir -p ${HOME}/.local/share/jupyter/kernels/\n",
    "rm -rf ${HOME}/.local/share/jupyter/kernels/${IMAGE_basename}\n",
    "cp -rf ${IPYKERNEL} ${HOME}/.local/share/jupyter/kernels/${IMAGE_basename}\n",
    "chmod -R 755 ${HOME}/.local/share/jupyter/kernels/${IMAGE_basename}\n",
    "IMAGE_desc=$(echo $IMAGE | sed 's_/_\\\\/_g')\n",
    "sed -i \"s/templateSIF/${IMAGE_desc}/g\" ${HOME}/.local/share/jupyter/kernels/${IMAGE_basename}/kernel.json\n",
    "sed -i \"s/templateImage/Image_${IMAGE_basename}/g\" ${HOME}/.local/share/jupyter/kernels/${IMAGE_basename}/kernel.json\n",
    "sed -i \"s@templateLibrayFolder@${libraryFolder_binding}@g\" ${HOME}/.local/share/jupyter/kernels/${IMAGE_basename}/kernel.json\n",
    "sed -i \"s@templateBinFolder@${binFolder_binding}@g\" ${HOME}/.local/share/jupyter/kernels/${IMAGE_basename}/kernel.json"
   ]
  },
  {
   "cell_type": "code",
   "execution_count": 2,
   "id": "b70bb551-62fb-445a-bde8-a3eb1bd99d43",
   "metadata": {
    "tags": []
   },
   "outputs": [
    {
     "name": "stdout",
     "output_type": "stream",
     "text": [
      "{\n",
      " \"language\": \"python\",\n",
      " \"argv\": [\"/work/opt/ohpc/Taiwania3/libs/singularity/3.10.2/bin/singularity\",\n",
      "   \"exec\",\n",
      "   \"--nv\",\n",
      "   \"--cleanenv\",\n",
      "   \"-B\",\n",
      "   \"/work\",\n",
      "   \"-B\",\n",
      "   \"/work/u00cjz00/os/ubuntu/bin:/usr/ubuntu_bin\",   \n",
      "   \"/work/u00cjz00/nvidia/pytorch_2.1.0-cuda11.8-cudnn8-devel.sif\",\n",
      "   \"python3\",\n",
      "   \"-m\",\n",
      "   \"ipykernel\",\n",
      "   \"-f\",\n",
      "   \"{connection_file}\"\n",
      " ],\n",
      " \"display_name\": \"Image_G_pytorch_2.1.0-cuda11.8-cudnn8-devel\"\n",
      "}\n"
     ]
    }
   ],
   "source": [
    "%%bash\n",
    "### CHECK  KERNEL.JSON \n",
    "### 0. pipi install libsray savefolder\n",
    "saveFolder=home\n",
    "IMAGE=/work/u00cjz00/nvidia/pytorch_2.1.0-cuda11.8-cudnn8-devel.sif\n",
    "IMAGE_basename=S_${saveFolder}_$(basename \"$IMAGE\" .sif)\n",
    "cat /home/$(whoami)/.local/share/jupyter/kernels/${IMAGE_basename}/kernel.json"
   ]
  },
  {
   "cell_type": "code",
   "execution_count": null,
   "id": "5e4c9070-53c2-4991-afa1-b813db391602",
   "metadata": {},
   "outputs": [],
   "source": []
  }
 ],
 "metadata": {
  "kernelspec": {
   "display_name": "Image_S_pytorch_2.1.0-cuda11.8-cudnn8-devel",
   "language": "python",
   "name": "s_pytorch_2.1.0-cuda11.8-cudnn8-devel"
  },
  "language_info": {
   "codemirror_mode": {
    "name": "ipython",
    "version": 3
   },
   "file_extension": ".py",
   "mimetype": "text/x-python",
   "name": "python",
   "nbconvert_exporter": "python",
   "pygments_lexer": "ipython3",
   "version": "3.10.13"
  }
 },
 "nbformat": 4,
 "nbformat_minor": 5
}
